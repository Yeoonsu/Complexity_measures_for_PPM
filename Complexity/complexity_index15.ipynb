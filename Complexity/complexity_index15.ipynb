{
 "cells": [
  {
   "cell_type": "code",
   "execution_count": 1,
   "metadata": {},
   "outputs": [
    {
     "name": "stderr",
     "output_type": "stream",
     "text": [
      "C:\\Users\\yeon1\\AppData\\Local\\Packages\\PythonSoftwareFoundation.Python.3.10_qbz5n2kfra8p0\\LocalCache\\local-packages\\Python310\\site-packages\\tqdm\\auto.py:22: TqdmWarning: IProgress not found. Please update jupyter and ipywidgets. See https://ipywidgets.readthedocs.io/en/stable/user_install.html\n",
      "  from .autonotebook import tqdm as notebook_tqdm\n"
     ]
    }
   ],
   "source": [
    "import pandas as pd\n",
    "import numpy as np\n",
    "from pymfe.mfe import MFE"
   ]
  },
  {
   "cell_type": "code",
   "execution_count": 2,
   "metadata": {},
   "outputs": [],
   "source": [
    "data = pd.read_csv(\"../BPIC_Classification/processed_dataset/P_indexbased_one_15.csv\")\n",
    "data\n",
    "\n",
    "X = data.drop('label', axis=1)\n",
    "y = data['label']\n",
    "\n",
    "X = X.to_numpy()\n",
    "y = y.to_numpy()"
   ]
  },
  {
   "cell_type": "code",
   "execution_count": 3,
   "metadata": {},
   "outputs": [
    {
     "name": "stderr",
     "output_type": "stream",
     "text": [
      "C:\\Users\\yeon1\\AppData\\Local\\Packages\\PythonSoftwareFoundation.Python.3.10_qbz5n2kfra8p0\\LocalCache\\local-packages\\Python310\\site-packages\\pymfe\\_internal.py:1568: UserWarning: It is not possible make equal discretization\n",
      "  warnings.warn(\"It is not possible make equal discretization\")\n",
      "C:\\Users\\yeon1\\AppData\\Local\\Packages\\PythonSoftwareFoundation.Python.3.10_qbz5n2kfra8p0\\LocalCache\\local-packages\\Python310\\site-packages\\pymfe\\_internal.py:1281: UserWarning:  * Something went wrong while precomputing 'precompute_pca_tx'. Will ignore this method. Error message:\n",
      "LinAlgError('SVD did not converge').\n",
      "  warnings.warn(\n",
      "C:\\Users\\yeon1\\AppData\\Local\\Packages\\PythonSoftwareFoundation.Python.3.10_qbz5n2kfra8p0\\LocalCache\\local-packages\\Python310\\site-packages\\pymfe\\_internal.py:731: RuntimeWarning: Can't summarize feature 'f1v' with summary 'sd'. Will set it as 'np.nan'.\n",
      "  warnings.warn(\n",
      "C:\\Users\\yeon1\\AppData\\Local\\Packages\\PythonSoftwareFoundation.Python.3.10_qbz5n2kfra8p0\\LocalCache\\local-packages\\Python310\\site-packages\\pymfe\\_internal.py:731: RuntimeWarning: Can't summarize feature 'f2' with summary 'sd'. Will set it as 'np.nan'.\n",
      "  warnings.warn(\n",
      "C:\\Users\\yeon1\\AppData\\Local\\Packages\\PythonSoftwareFoundation.Python.3.10_qbz5n2kfra8p0\\LocalCache\\local-packages\\Python310\\site-packages\\pymfe\\_internal.py:731: RuntimeWarning: Can't summarize feature 'f3' with summary 'sd'. Will set it as 'np.nan'.\n",
      "  warnings.warn(\n",
      "C:\\Users\\yeon1\\AppData\\Local\\Packages\\PythonSoftwareFoundation.Python.3.10_qbz5n2kfra8p0\\LocalCache\\local-packages\\Python310\\site-packages\\pymfe\\_internal.py:731: RuntimeWarning: Can't summarize feature 'f4' with summary 'sd'. Will set it as 'np.nan'.\n",
      "  warnings.warn(\n",
      "C:\\Users\\yeon1\\AppData\\Local\\Packages\\PythonSoftwareFoundation.Python.3.10_qbz5n2kfra8p0\\LocalCache\\local-packages\\Python310\\site-packages\\pymfe\\_internal.py:731: RuntimeWarning: Can't summarize feature 'l1' with summary 'sd'. Will set it as 'np.nan'.\n",
      "  warnings.warn(\n",
      "C:\\Users\\yeon1\\AppData\\Local\\Packages\\PythonSoftwareFoundation.Python.3.10_qbz5n2kfra8p0\\LocalCache\\local-packages\\Python310\\site-packages\\pymfe\\_internal.py:731: RuntimeWarning: Can't summarize feature 'l2' with summary 'sd'. Will set it as 'np.nan'.\n",
      "  warnings.warn(\n",
      "C:\\Users\\yeon1\\AppData\\Local\\Packages\\PythonSoftwareFoundation.Python.3.10_qbz5n2kfra8p0\\LocalCache\\local-packages\\Python310\\site-packages\\pymfe\\_internal.py:731: RuntimeWarning: Can't summarize feature 'l3' with summary 'sd'. Will set it as 'np.nan'.\n",
      "  warnings.warn(\n",
      "C:\\Users\\yeon1\\AppData\\Local\\Packages\\PythonSoftwareFoundation.Python.3.10_qbz5n2kfra8p0\\LocalCache\\local-packages\\Python310\\site-packages\\pymfe\\_internal.py:606: RuntimeWarning: Can't extract feature 't3'.\n",
      " Exception message: LinAlgError('SVD did not converge').\n",
      "  warnings.warn(\n"
     ]
    },
    {
     "name": "stdout",
     "output_type": "stream",
     "text": [
      "(['c1', 'c2', 'cls_coef', 'density', 'f1.mean', 'f1.sd', 'f1v.mean', 'f1v.sd', 'f2.mean', 'f2.sd', 'f3.mean', 'f3.sd', 'f4.mean', 'f4.sd', 'hubs.mean', 'hubs.sd', 'l1.mean', 'l1.sd', 'l2.mean', 'l2.sd', 'l3.mean', 'l3.sd', 'lsc', 'n1', 'n2.mean', 'n2.sd', 'n3.mean', 'n3.sd', 'n4.mean', 'n4.sd', 't1.mean', 't1.sd', 't2', 't3', 't4'], [0.7676095051085848, 0.4667883736185241, 0.5731361768337021, 0.8674061715414496, 0.9996589468364083, 0.0008130930997577718, 0.0735108026403242, nan, 0.0, nan, 0.9854677565849228, nan, 0.0, nan, 0.7983464910624801, 0.150237154491296, 0.0, nan, 0.0, nan, 0.0006811989100817817, nan, 0.9984947318967728, 0.39759309718437785, 0.41437365846010776, 0.15637197169547423, 0.2631698455949137, 0.44040381325224326, 0.15826521344232516, 0.36503094621478077, 0.00022711787417669762, 3.4219869340549727e-06, 5.829473206176203, nan, nan])\n"
     ]
    },
    {
     "name": "stderr",
     "output_type": "stream",
     "text": [
      "C:\\Users\\yeon1\\AppData\\Local\\Packages\\PythonSoftwareFoundation.Python.3.10_qbz5n2kfra8p0\\LocalCache\\local-packages\\Python310\\site-packages\\pymfe\\_internal.py:606: RuntimeWarning: Can't extract feature 't4'.\n",
      " Exception message: LinAlgError('SVD did not converge').\n",
      "  warnings.warn(\n"
     ]
    }
   ],
   "source": [
    "mfe = MFE(groups=\"complexity\")\n",
    "mfe.fit(X, y)\n",
    "ft = mfe.extract()\n",
    "print(ft)"
   ]
  },
  {
   "cell_type": "code",
   "execution_count": 4,
   "metadata": {},
   "outputs": [
    {
     "data": {
      "text/plain": [
       "{'c1': 0.7676095051085848,\n",
       " 'c2': 0.4667883736185241,\n",
       " 'cls_coef': 0.5731361768337021,\n",
       " 'density': 0.8674061715414496,\n",
       " 'f1.mean': 0.9996589468364083,\n",
       " 'f1.sd': 0.0008130930997577718,\n",
       " 'f1v.mean': 0.0735108026403242,\n",
       " 'f1v.sd': nan,\n",
       " 'f2.mean': 0.0,\n",
       " 'f2.sd': nan,\n",
       " 'f3.mean': 0.9854677565849228,\n",
       " 'f3.sd': nan,\n",
       " 'f4.mean': 0.0,\n",
       " 'f4.sd': nan,\n",
       " 'hubs.mean': 0.7983464910624801,\n",
       " 'hubs.sd': 0.150237154491296,\n",
       " 'l1.mean': 0.0,\n",
       " 'l1.sd': nan,\n",
       " 'l2.mean': 0.0,\n",
       " 'l2.sd': nan,\n",
       " 'l3.mean': 0.0006811989100817817,\n",
       " 'l3.sd': nan,\n",
       " 'lsc': 0.9984947318967728,\n",
       " 'n1': 0.39759309718437785,\n",
       " 'n2.mean': 0.41437365846010776,\n",
       " 'n2.sd': 0.15637197169547423,\n",
       " 'n3.mean': 0.2631698455949137,\n",
       " 'n3.sd': 0.44040381325224326,\n",
       " 'n4.mean': 0.15826521344232516,\n",
       " 'n4.sd': 0.36503094621478077,\n",
       " 't1.mean': 0.00022711787417669762,\n",
       " 't1.sd': 3.4219869340549727e-06,\n",
       " 't2': 5.829473206176203,\n",
       " 't3': nan,\n",
       " 't4': nan}"
      ]
     },
     "execution_count": 4,
     "metadata": {},
     "output_type": "execute_result"
    }
   ],
   "source": [
    "dic_all = {}\n",
    "\n",
    "for i in range(0, len(ft[0])):\n",
    "    dic_all[ft[0][i]] = ft[1][i]\n",
    "\n",
    "dic_all"
   ]
  },
  {
   "cell_type": "code",
   "execution_count": null,
   "metadata": {},
   "outputs": [],
   "source": []
  }
 ],
 "metadata": {
  "kernelspec": {
   "display_name": "Python 3",
   "language": "python",
   "name": "python3"
  },
  "language_info": {
   "codemirror_mode": {
    "name": "ipython",
    "version": 3
   },
   "file_extension": ".py",
   "mimetype": "text/x-python",
   "name": "python",
   "nbconvert_exporter": "python",
   "pygments_lexer": "ipython3",
   "version": "3.10.11"
  },
  "orig_nbformat": 4
 },
 "nbformat": 4,
 "nbformat_minor": 2
}
