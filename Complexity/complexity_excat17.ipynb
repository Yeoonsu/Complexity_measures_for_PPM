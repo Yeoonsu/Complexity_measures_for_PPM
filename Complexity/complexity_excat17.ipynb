{
 "cells": [
  {
   "cell_type": "code",
   "execution_count": 1,
   "metadata": {},
   "outputs": [
    {
     "name": "stderr",
     "output_type": "stream",
     "text": [
      "C:\\Users\\yeon1\\AppData\\Local\\Packages\\PythonSoftwareFoundation.Python.3.10_qbz5n2kfra8p0\\LocalCache\\local-packages\\Python310\\site-packages\\tqdm\\auto.py:22: TqdmWarning: IProgress not found. Please update jupyter and ipywidgets. See https://ipywidgets.readthedocs.io/en/stable/user_install.html\n",
      "  from .autonotebook import tqdm as notebook_tqdm\n"
     ]
    }
   ],
   "source": [
    "import pandas as pd\n",
    "import numpy as np\n",
    "from pymfe.mfe import MFE\n",
    "import math\n",
    "import warnings\n",
    "warnings.filterwarnings('ignore')\n",
    "pd.options.display.max_rows = None\n",
    "pd.options.display.max_columns = None"
   ]
  },
  {
   "cell_type": "code",
   "execution_count": 2,
   "metadata": {},
   "outputs": [],
   "source": [
    "df = pd.read_csv('processed_dataset/P_index_excat_17.csv')\n",
    "\n",
    "i = 100\n",
    "def data_split(data):\n",
    "    data = pd.DataFrame(np.random.permutation(data))\n",
    "    mini_batch = int(data.shape[0] / i)\n",
    "    for j in range(0, i+1):\n",
    "        yield data.iloc[mini_batch*j:mini_batch*(j+1), :]\n",
    "\n",
    "g = data_split(df)\n",
    "\n",
    "for k in range(0, i):\n",
    "    globals()['a'+str(k)] = next(g)\n",
    "    globals()['x'+str(k)] = globals()['a'+str(k)].drop(56, axis=1)\n",
    "    globals()['y'+str(k)] = globals()['a'+str(k)][56]\n",
    "\n",
    "    globals()['X'+str(k)] = globals()['x'+str(k)].to_numpy()\n",
    "    globals()['Y'+str(k)] = globals()['y'+str(k)].to_numpy()\n",
    "\n",
    "def complexity(X, Y):\n",
    "    mfe = MFE(groups=\"complexity\")\n",
    "    mfe.fit(X, Y)\n",
    "    ft = mfe.extract()\n",
    "    return ft"
   ]
  },
  {
   "cell_type": "code",
   "execution_count": 3,
   "metadata": {},
   "outputs": [],
   "source": [
    "busket = []\n",
    "\n",
    "for l in range(0, i):\n",
    "    globals()['ft'+str(l)] = complexity(globals()['X'+str(l)], globals()['Y'+str(l)])\n",
    "\n",
    "    dic_all = {}\n",
    "\n",
    "    for a in range(0, len(globals()['ft'+str(l)][0])):\n",
    "        dic_all[globals()['ft'+str(l)][0][a]] = globals()['ft'+str(l)][1][a]\n",
    "    \n",
    "    busket += list(dic_all.values())[:]\n",
    "\n",
    "    #48m 48.0s"
   ]
  },
  {
   "cell_type": "code",
   "execution_count": 4,
   "metadata": {},
   "outputs": [
    {
     "data": {
      "text/plain": [
       "c1           0.792439\n",
       "c2           0.052349\n",
       "cls_coef     0.369856\n",
       "density      0.980124\n",
       "f1.mean           NaN\n",
       "f1.sd             NaN\n",
       "f1v.mean          NaN\n",
       "f1v.sd            NaN\n",
       "f2.mean           NaN\n",
       "f2.sd             NaN\n",
       "f3.mean      0.000000\n",
       "f3.sd        0.000000\n",
       "f4.mean      0.000000\n",
       "f4.sd        0.000000\n",
       "hubs.mean    0.927580\n",
       "hubs.sd      0.223925\n",
       "l1.mean      0.000000\n",
       "l1.sd        0.000000\n",
       "l2.mean      0.000000\n",
       "l2.sd        0.000000\n",
       "l3.mean      0.000000\n",
       "l3.sd        0.000000\n",
       "lsc          0.996086\n",
       "n1           0.923631\n",
       "n2.mean      0.637155\n",
       "n2.sd        0.158183\n",
       "n3.mean           NaN\n",
       "n3.sd             NaN\n",
       "n4.mean           NaN\n",
       "n4.sd             NaN\n",
       "t1.mean      0.003185\n",
       "t1.sd        0.000000\n",
       "t2           1.665605\n",
       "t3           0.012452\n",
       "t4           0.007476\n",
       "dtype: float64"
      ]
     },
     "execution_count": 4,
     "metadata": {},
     "output_type": "execute_result"
    }
   ],
   "source": [
    "columns = list(dic_all.keys())\n",
    "df = pd.DataFrame(np.array(busket).reshape(100, 35))\n",
    "df.columns = columns\n",
    "df.mean()"
   ]
  },
  {
   "cell_type": "code",
   "execution_count": null,
   "metadata": {},
   "outputs": [],
   "source": []
  }
 ],
 "metadata": {
  "kernelspec": {
   "display_name": "Python 3",
   "language": "python",
   "name": "python3"
  },
  "language_info": {
   "codemirror_mode": {
    "name": "ipython",
    "version": 3
   },
   "file_extension": ".py",
   "mimetype": "text/x-python",
   "name": "python",
   "nbconvert_exporter": "python",
   "pygments_lexer": "ipython3",
   "version": "3.10.11"
  },
  "orig_nbformat": 4
 },
 "nbformat": 4,
 "nbformat_minor": 2
}
