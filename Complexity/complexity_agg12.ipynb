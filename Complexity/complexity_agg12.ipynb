{
 "cells": [
  {
   "cell_type": "code",
   "execution_count": 1,
   "metadata": {},
   "outputs": [
    {
     "name": "stderr",
     "output_type": "stream",
     "text": [
      "C:\\Users\\yeon1\\AppData\\Local\\Packages\\PythonSoftwareFoundation.Python.3.10_qbz5n2kfra8p0\\LocalCache\\local-packages\\Python310\\site-packages\\tqdm\\auto.py:22: TqdmWarning: IProgress not found. Please update jupyter and ipywidgets. See https://ipywidgets.readthedocs.io/en/stable/user_install.html\n",
      "  from .autonotebook import tqdm as notebook_tqdm\n"
     ]
    }
   ],
   "source": [
    "import pandas as pd\n",
    "import numpy as np\n",
    "from pymfe.mfe import MFE"
   ]
  },
  {
   "cell_type": "code",
   "execution_count": 2,
   "metadata": {},
   "outputs": [],
   "source": [
    "data = pd.read_csv(\"../BPIC_Classification/processed_dataset/P_BPIC12_agg.csv\")\n",
    "data\n",
    "\n",
    "X = data.drop('label', axis=1)\n",
    "y = data['label']\n",
    "\n",
    "X = X.to_numpy()\n",
    "y = y.to_numpy()"
   ]
  },
  {
   "cell_type": "code",
   "execution_count": 3,
   "metadata": {},
   "outputs": [
    {
     "name": "stderr",
     "output_type": "stream",
     "text": [
      "C:\\Users\\yeon1\\AppData\\Local\\Packages\\PythonSoftwareFoundation.Python.3.10_qbz5n2kfra8p0\\LocalCache\\local-packages\\Python310\\site-packages\\pymfe\\_internal.py:1568: UserWarning: It is not possible make equal discretization\n",
      "  warnings.warn(\"It is not possible make equal discretization\")\n",
      "C:\\Users\\yeon1\\AppData\\Local\\Packages\\PythonSoftwareFoundation.Python.3.10_qbz5n2kfra8p0\\LocalCache\\local-packages\\Python310\\site-packages\\pymfe\\_internal.py:1281: UserWarning:  * Something went wrong while precomputing 'precompute_pca_tx'. Will ignore this method. Error message:\n",
      "LinAlgError('SVD did not converge').\n",
      "  warnings.warn(\n",
      "C:\\Users\\yeon1\\AppData\\Local\\Packages\\PythonSoftwareFoundation.Python.3.10_qbz5n2kfra8p0\\LocalCache\\local-packages\\Python310\\site-packages\\pymfe\\complexity.py:802: RuntimeWarning: invalid value encountered in divide\n",
      "  attr_discriminant_ratio = _numer / _denom\n",
      "C:\\Users\\yeon1\\AppData\\Local\\Packages\\PythonSoftwareFoundation.Python.3.10_qbz5n2kfra8p0\\LocalCache\\local-packages\\Python310\\site-packages\\pymfe\\_internal.py:731: RuntimeWarning: Can't summarize feature 'f1' with summary 'sd'. Will set it as 'np.nan'.\n",
      "  warnings.warn(\n",
      "C:\\Users\\yeon1\\AppData\\Local\\Packages\\PythonSoftwareFoundation.Python.3.10_qbz5n2kfra8p0\\LocalCache\\local-packages\\Python310\\site-packages\\pymfe\\_internal.py:731: RuntimeWarning: Can't summarize feature 'f1' with summary 'mean'. Will set it as 'np.nan'.\n",
      "  warnings.warn(\n",
      "C:\\Users\\yeon1\\AppData\\Local\\Packages\\PythonSoftwareFoundation.Python.3.10_qbz5n2kfra8p0\\LocalCache\\local-packages\\Python310\\site-packages\\pymfe\\_internal.py:731: RuntimeWarning: Can't summarize feature 'f1v' with summary 'sd'. Will set it as 'np.nan'.\n",
      "  warnings.warn(\n",
      "C:\\Users\\yeon1\\AppData\\Local\\Packages\\PythonSoftwareFoundation.Python.3.10_qbz5n2kfra8p0\\LocalCache\\local-packages\\Python310\\site-packages\\pymfe\\complexity.py:988: RuntimeWarning: invalid value encountered in divide\n",
      "  f2[ind] = np.prod(np.maximum(0.0, minmax - maxmin) / (maxmax - minmin))\n",
      "C:\\Users\\yeon1\\AppData\\Local\\Packages\\PythonSoftwareFoundation.Python.3.10_qbz5n2kfra8p0\\LocalCache\\local-packages\\Python310\\site-packages\\pymfe\\_internal.py:731: RuntimeWarning: Can't summarize feature 'f2' with summary 'sd'. Will set it as 'np.nan'.\n",
      "  warnings.warn(\n",
      "C:\\Users\\yeon1\\AppData\\Local\\Packages\\PythonSoftwareFoundation.Python.3.10_qbz5n2kfra8p0\\LocalCache\\local-packages\\Python310\\site-packages\\pymfe\\_internal.py:731: RuntimeWarning: Can't summarize feature 'f2' with summary 'mean'. Will set it as 'np.nan'.\n",
      "  warnings.warn(\n",
      "C:\\Users\\yeon1\\AppData\\Local\\Packages\\PythonSoftwareFoundation.Python.3.10_qbz5n2kfra8p0\\LocalCache\\local-packages\\Python310\\site-packages\\pymfe\\_internal.py:731: RuntimeWarning: Can't summarize feature 'f3' with summary 'sd'. Will set it as 'np.nan'.\n",
      "  warnings.warn(\n",
      "C:\\Users\\yeon1\\AppData\\Local\\Packages\\PythonSoftwareFoundation.Python.3.10_qbz5n2kfra8p0\\LocalCache\\local-packages\\Python310\\site-packages\\pymfe\\_internal.py:731: RuntimeWarning: Can't summarize feature 'f4' with summary 'sd'. Will set it as 'np.nan'.\n",
      "  warnings.warn(\n",
      "C:\\Users\\yeon1\\AppData\\Local\\Packages\\PythonSoftwareFoundation.Python.3.10_qbz5n2kfra8p0\\LocalCache\\local-packages\\Python310\\site-packages\\pymfe\\_internal.py:731: RuntimeWarning: Can't summarize feature 'l1' with summary 'sd'. Will set it as 'np.nan'.\n",
      "  warnings.warn(\n",
      "C:\\Users\\yeon1\\AppData\\Local\\Packages\\PythonSoftwareFoundation.Python.3.10_qbz5n2kfra8p0\\LocalCache\\local-packages\\Python310\\site-packages\\pymfe\\_internal.py:731: RuntimeWarning: Can't summarize feature 'l2' with summary 'sd'. Will set it as 'np.nan'.\n",
      "  warnings.warn(\n",
      "C:\\Users\\yeon1\\AppData\\Local\\Packages\\PythonSoftwareFoundation.Python.3.10_qbz5n2kfra8p0\\LocalCache\\local-packages\\Python310\\site-packages\\pymfe\\_internal.py:731: RuntimeWarning: Can't summarize feature 'l3' with summary 'sd'. Will set it as 'np.nan'.\n",
      "  warnings.warn(\n",
      "C:\\Users\\yeon1\\AppData\\Local\\Packages\\PythonSoftwareFoundation.Python.3.10_qbz5n2kfra8p0\\LocalCache\\local-packages\\Python310\\site-packages\\pymfe\\_internal.py:606: RuntimeWarning: Can't extract feature 't3'.\n",
      " Exception message: LinAlgError('SVD did not converge').\n",
      "  warnings.warn(\n"
     ]
    },
    {
     "name": "stdout",
     "output_type": "stream",
     "text": [
      "(['c1', 'c2', 'cls_coef', 'density', 'f1.mean', 'f1.sd', 'f1v.mean', 'f1v.sd', 'f2.mean', 'f2.sd', 'f3.mean', 'f3.sd', 'f4.mean', 'f4.sd', 'hubs.mean', 'hubs.sd', 'l1.mean', 'l1.sd', 'l2.mean', 'l2.sd', 'l3.mean', 'l3.sd', 'lsc', 'n1', 'n2.mean', 'n2.sd', 'n3.mean', 'n3.sd', 'n4.mean', 'n4.sd', 't1.mean', 't1.sd', 't2', 't3', 't4'], [0.006584825176766485, 0.9989296639151123, 0.23908430658410829, 0.8119257757496151, nan, nan, 0.0012231522670010985, nan, nan, nan, 0.18697944525101245, nan, 0.0, nan, 0.7036821116095501, 0.3134909544342867, 0.0, nan, 0.0, nan, 0.0, nan, 0.5474568514853915, 0.0012225873003744174, 0.20288343822782595, 0.11742299035974368, 0.0007641170627340108, 0.027633160065047728, 0.00015282341254680218, 0.012361704338671311, 7.641170627340108e-05, 1.3553044971606527e-20, 1.343699854817758, nan, nan])\n"
     ]
    },
    {
     "name": "stderr",
     "output_type": "stream",
     "text": [
      "C:\\Users\\yeon1\\AppData\\Local\\Packages\\PythonSoftwareFoundation.Python.3.10_qbz5n2kfra8p0\\LocalCache\\local-packages\\Python310\\site-packages\\pymfe\\_internal.py:606: RuntimeWarning: Can't extract feature 't4'.\n",
      " Exception message: LinAlgError('SVD did not converge').\n",
      "  warnings.warn(\n"
     ]
    }
   ],
   "source": [
    "mfe = MFE(groups=\"complexity\")\n",
    "mfe.fit(X, y)\n",
    "ft = mfe.extract()\n",
    "print(ft)"
   ]
  },
  {
   "cell_type": "code",
   "execution_count": 4,
   "metadata": {},
   "outputs": [
    {
     "data": {
      "text/plain": [
       "{'c1': 0.006584825176766485,\n",
       " 'c2': 0.9989296639151123,\n",
       " 'cls_coef': 0.23908430658410829,\n",
       " 'density': 0.8119257757496151,\n",
       " 'f1.mean': nan,\n",
       " 'f1.sd': nan,\n",
       " 'f1v.mean': 0.0012231522670010985,\n",
       " 'f1v.sd': nan,\n",
       " 'f2.mean': nan,\n",
       " 'f2.sd': nan,\n",
       " 'f3.mean': 0.18697944525101245,\n",
       " 'f3.sd': nan,\n",
       " 'f4.mean': 0.0,\n",
       " 'f4.sd': nan,\n",
       " 'hubs.mean': 0.7036821116095501,\n",
       " 'hubs.sd': 0.3134909544342867,\n",
       " 'l1.mean': 0.0,\n",
       " 'l1.sd': nan,\n",
       " 'l2.mean': 0.0,\n",
       " 'l2.sd': nan,\n",
       " 'l3.mean': 0.0,\n",
       " 'l3.sd': nan,\n",
       " 'lsc': 0.5474568514853915,\n",
       " 'n1': 0.0012225873003744174,\n",
       " 'n2.mean': 0.20288343822782595,\n",
       " 'n2.sd': 0.11742299035974368,\n",
       " 'n3.mean': 0.0007641170627340108,\n",
       " 'n3.sd': 0.027633160065047728,\n",
       " 'n4.mean': 0.00015282341254680218,\n",
       " 'n4.sd': 0.012361704338671311,\n",
       " 't1.mean': 7.641170627340108e-05,\n",
       " 't1.sd': 1.3553044971606527e-20,\n",
       " 't2': 1.343699854817758,\n",
       " 't3': nan,\n",
       " 't4': nan}"
      ]
     },
     "execution_count": 4,
     "metadata": {},
     "output_type": "execute_result"
    }
   ],
   "source": [
    "dic_all = {}\n",
    "\n",
    "for i in range(0, len(ft[0])):\n",
    "    dic_all[ft[0][i]] = ft[1][i]\n",
    "\n",
    "dic_all"
   ]
  }
 ],
 "metadata": {
  "kernelspec": {
   "display_name": "Python 3",
   "language": "python",
   "name": "python3"
  },
  "language_info": {
   "codemirror_mode": {
    "name": "ipython",
    "version": 3
   },
   "file_extension": ".py",
   "mimetype": "text/x-python",
   "name": "python",
   "nbconvert_exporter": "python",
   "pygments_lexer": "ipython3",
   "version": "3.10.11"
  },
  "orig_nbformat": 4,
  "vscode": {
   "interpreter": {
    "hash": "89ea80d57eb15db2b2c34f3c90a65f136145061d7e5ac43992953d1b221026f6"
   }
  }
 },
 "nbformat": 4,
 "nbformat_minor": 2
}
